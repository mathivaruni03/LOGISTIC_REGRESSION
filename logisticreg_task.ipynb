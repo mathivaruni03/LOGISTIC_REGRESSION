{
 "cells": [
  {
   "cell_type": "code",
   "execution_count": 1,
   "id": "45c349a7-a90a-4c49-a2b2-002fcbb56859",
   "metadata": {},
   "outputs": [
    {
     "name": "stdout",
     "output_type": "stream",
     "text": [
      "Probability of passing for 33 hours: 0.8808\n",
      "Minimum study hours required for >95% probability of passing: 34 hours\n"
     ]
    }
   ],
   "source": [
    "import numpy as np\n",
    "\n",
    "\n",
    "\n",
    "# Logistic regression equation parameters\n",
    "\n",
    "intercept = -64\n",
    "\n",
    "coefficient = 2\n",
    "\n",
    "\n",
    "\n",
    "# Function to calculate probability of passing\n",
    "\n",
    "def probability_of_passing(hours):\n",
    "\n",
    "    log_odds = intercept + coefficient * hours  # log(odds) = -64 + 2 * hours\n",
    "\n",
    "    odds = np.exp(log_odds)  # Convert log-odds to odds\n",
    "\n",
    "    probability = odds / (1 + odds)  # Convert odds to probability\n",
    "\n",
    "    return probability\n",
    "\n",
    "\n",
    "\n",
    "# (i) Probability for a student who studied 33 hours\n",
    "\n",
    "hours_studied = 33\n",
    "\n",
    "prob_33 = probability_of_passing(hours_studied)\n",
    "\n",
    "print(f\"Probability of passing for {hours_studied} hours: {prob_33:.4f}\")\n",
    "\n",
    "\n",
    "\n",
    "# (ii) Finding the minimum hours needed for P > 0.95\n",
    "\n",
    "required_prob = 0.95\n",
    "\n",
    "\n",
    "\n",
    "# Solve for hours: log(odds) = ln(prob / (1 - prob))\n",
    "\n",
    "min_hours = (np.log(required_prob / (1 - required_prob)) - intercept) / coefficient\n",
    "\n",
    "min_hours = np.ceil(min_hours)  # Round up to the nearest whole number\n",
    "\n",
    "\n",
    "\n",
    "print(f\"Minimum study hours required for >95% probability of passing: {int(min_hours)} hours\")"
   ]
  },
  {
   "cell_type": "code",
   "execution_count": null,
   "id": "fbe75b60-b77b-4254-9239-020f0a6f15b5",
   "metadata": {},
   "outputs": [],
   "source": []
  }
 ],
 "metadata": {
  "kernelspec": {
   "display_name": "Python [conda env:base] *",
   "language": "python",
   "name": "conda-base-py"
  },
  "language_info": {
   "codemirror_mode": {
    "name": "ipython",
    "version": 3
   },
   "file_extension": ".py",
   "mimetype": "text/x-python",
   "name": "python",
   "nbconvert_exporter": "python",
   "pygments_lexer": "ipython3",
   "version": "3.12.7"
  }
 },
 "nbformat": 4,
 "nbformat_minor": 5
}
